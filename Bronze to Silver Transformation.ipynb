{
 "cells": [
  {
   "cell_type": "code",
   "execution_count": 0,
   "metadata": {
    "application/vnd.databricks.v1+cell": {
     "cellMetadata": {
      "byteLimit": 2048000,
      "rowLimit": 10000
     },
     "inputWidgets": {},
     "nuid": "a7bee75c-bf0a-4f8f-b694-aa41cee84dec",
     "showTitle": false,
     "tableResultSettingsMap": {},
     "title": ""
    }
   },
   "outputs": [],
   "source": [
    "from pyspark.sql.functions import *\n",
    "from pyspark.sql.types import IntegerType, DoubleType, DataType, BooleanType, TimestampType\n",
    "from pyspark.sql import SparkSession"
   ]
  },
  {
   "cell_type": "code",
   "execution_count": 0,
   "metadata": {
    "application/vnd.databricks.v1+cell": {
     "cellMetadata": {
      "byteLimit": 2048000,
      "rowLimit": 10000
     },
     "inputWidgets": {},
     "nuid": "a3400c04-47b3-41c6-9562-aa1bac47f062",
     "showTitle": false,
     "tableResultSettingsMap": {},
     "title": ""
    }
   },
   "outputs": [],
   "source": [
    "spark.conf.set(\"fs.azure.account.auth.type.databriconnect.dfs.core.windows.net\", \"OAuth\")\n",
    "spark.conf.set(\"fs.azure.account.oauth.provider.type.databriconnect.dfs.core.windows.net\", \"org.apache.hadoop.fs.azurebfs.oauth2.ClientCredsTokenProvider\")\n",
    "spark.conf.set(\"fs.azure.account.oauth2.client.id.databriconnect.dfs.core.windows.net\", client_id)\n",
    "spark.conf.set(\"fs.azure.account.oauth2.client.secret.databriconnect.dfs.core.windows.net\", client_secret)\n",
    "spark.conf.set(\"fs.azure.account.oauth2.client.endpoint.databriconnect.dfs.core.windows.net\", f\"https://login.microsoftonline.com/{tenant_id}/oauth2/token\")"
   ]
  },
  {
   "cell_type": "code",
   "execution_count": 0,
   "metadata": {
    "application/vnd.databricks.v1+cell": {
     "cellMetadata": {
      "byteLimit": 2048000,
      "rowLimit": 10000
     },
     "inputWidgets": {},
     "nuid": "3b719682-5e59-43b6-9db9-e2429c28f296",
     "showTitle": false,
     "tableResultSettingsMap": {},
     "title": ""
    }
   },
   "outputs": [
    {
     "data": {
      "text/html": [
       "<style scoped>\n",
       "  .table-result-container {\n",
       "    max-height: 300px;\n",
       "    overflow: auto;\n",
       "  }\n",
       "  table, th, td {\n",
       "    border: 1px solid black;\n",
       "    border-collapse: collapse;\n",
       "  }\n",
       "  th, td {\n",
       "    padding: 5px;\n",
       "  }\n",
       "  th {\n",
       "    text-align: left;\n",
       "  }\n",
       "</style><div class='table-result-container'><table class='table-result'><thead style='background-color: white'><tr><th>path</th><th>name</th><th>size</th><th>modificationTime</th></tr></thead><tbody><tr><td>abfss://bronze@databriconnect.dfs.core.windows.net/SalesLT/Address/</td><td>Address/</td><td>0</td><td>1746462767000</td></tr><tr><td>abfss://bronze@databriconnect.dfs.core.windows.net/SalesLT/Customer/</td><td>Customer/</td><td>0</td><td>1746462768000</td></tr><tr><td>abfss://bronze@databriconnect.dfs.core.windows.net/SalesLT/CustomerAddress/</td><td>CustomerAddress/</td><td>0</td><td>1746462768000</td></tr><tr><td>abfss://bronze@databriconnect.dfs.core.windows.net/SalesLT/Product/</td><td>Product/</td><td>0</td><td>1746462769000</td></tr><tr><td>abfss://bronze@databriconnect.dfs.core.windows.net/SalesLT/ProductCategory/</td><td>ProductCategory/</td><td>0</td><td>1746462769000</td></tr><tr><td>abfss://bronze@databriconnect.dfs.core.windows.net/SalesLT/ProductDescription/</td><td>ProductDescription/</td><td>0</td><td>1746462771000</td></tr><tr><td>abfss://bronze@databriconnect.dfs.core.windows.net/SalesLT/ProductModel/</td><td>ProductModel/</td><td>0</td><td>1746462768000</td></tr><tr><td>abfss://bronze@databriconnect.dfs.core.windows.net/SalesLT/ProductModelProductDescription/</td><td>ProductModelProductDescription/</td><td>0</td><td>1746462767000</td></tr><tr><td>abfss://bronze@databriconnect.dfs.core.windows.net/SalesLT/SalesOrderDetail/</td><td>SalesOrderDetail/</td><td>0</td><td>1746462768000</td></tr><tr><td>abfss://bronze@databriconnect.dfs.core.windows.net/SalesLT/SalesOrderHeader/</td><td>SalesOrderHeader/</td><td>0</td><td>1746462767000</td></tr></tbody></table></div>"
      ]
     },
     "metadata": {
      "application/vnd.databricks.v1+output": {
       "addedWidgets": {},
       "aggData": [],
       "aggError": "",
       "aggOverflow": false,
       "aggSchema": [],
       "aggSeriesLimitReached": false,
       "aggType": "",
       "arguments": {},
       "columnCustomDisplayInfos": {},
       "data": [
        [
         "abfss://bronze@databriconnect.dfs.core.windows.net/SalesLT/Address/",
         "Address/",
         0,
         1746462767000
        ],
        [
         "abfss://bronze@databriconnect.dfs.core.windows.net/SalesLT/Customer/",
         "Customer/",
         0,
         1746462768000
        ],
        [
         "abfss://bronze@databriconnect.dfs.core.windows.net/SalesLT/CustomerAddress/",
         "CustomerAddress/",
         0,
         1746462768000
        ],
        [
         "abfss://bronze@databriconnect.dfs.core.windows.net/SalesLT/Product/",
         "Product/",
         0,
         1746462769000
        ],
        [
         "abfss://bronze@databriconnect.dfs.core.windows.net/SalesLT/ProductCategory/",
         "ProductCategory/",
         0,
         1746462769000
        ],
        [
         "abfss://bronze@databriconnect.dfs.core.windows.net/SalesLT/ProductDescription/",
         "ProductDescription/",
         0,
         1746462771000
        ],
        [
         "abfss://bronze@databriconnect.dfs.core.windows.net/SalesLT/ProductModel/",
         "ProductModel/",
         0,
         1746462768000
        ],
        [
         "abfss://bronze@databriconnect.dfs.core.windows.net/SalesLT/ProductModelProductDescription/",
         "ProductModelProductDescription/",
         0,
         1746462767000
        ],
        [
         "abfss://bronze@databriconnect.dfs.core.windows.net/SalesLT/SalesOrderDetail/",
         "SalesOrderDetail/",
         0,
         1746462768000
        ],
        [
         "abfss://bronze@databriconnect.dfs.core.windows.net/SalesLT/SalesOrderHeader/",
         "SalesOrderHeader/",
         0,
         1746462767000
        ]
       ],
       "datasetInfos": [],
       "dbfsResultPath": null,
       "isJsonSchema": true,
       "metadata": {},
       "overflow": false,
       "plotOptions": {
        "customPlotOptions": {},
        "displayType": "table",
        "pivotAggregation": null,
        "pivotColumns": null,
        "xColumns": null,
        "yColumns": null
       },
       "removedWidgets": [],
       "schema": [
        {
         "metadata": "{}",
         "name": "path",
         "type": "\"string\""
        },
        {
         "metadata": "{}",
         "name": "name",
         "type": "\"string\""
        },
        {
         "metadata": "{}",
         "name": "size",
         "type": "\"long\""
        },
        {
         "metadata": "{}",
         "name": "modificationTime",
         "type": "\"long\""
        }
       ],
       "type": "table"
      }
     },
     "output_type": "display_data"
    }
   ],
   "source": [
    "display(dbutils.fs.ls(\"abfss://bronze@databriconnect.dfs.core.windows.net/SalesLT\"))"
   ]
  },
  {
   "cell_type": "code",
   "execution_count": 0,
   "metadata": {
    "application/vnd.databricks.v1+cell": {
     "cellMetadata": {
      "byteLimit": 2048000,
      "rowLimit": 10000
     },
     "inputWidgets": {},
     "nuid": "60ca59d2-493c-4216-98f1-28fb887e54ab",
     "showTitle": false,
     "tableResultSettingsMap": {},
     "title": ""
    }
   },
   "outputs": [
    {
     "name": "stdout",
     "output_type": "stream",
     "text": [
      "['Address', 'Customer', 'CustomerAddress', 'Product', 'ProductCategory', 'ProductDescription', 'ProductModel', 'ProductModelProductDescription', 'SalesOrderDetail', 'SalesOrderHeader']\n"
     ]
    }
   ],
   "source": [
    "table_name = []\n",
    "\n",
    "for i in dbutils.fs.ls(\"abfss://bronze@databriconnect.dfs.core.windows.net/SalesLT\"):\n",
    "    table_name.append(i.name[:-1])\n",
    "\n",
    "print(table_name)\n"
   ]
  },
  {
   "cell_type": "code",
   "execution_count": 0,
   "metadata": {
    "application/vnd.databricks.v1+cell": {
     "cellMetadata": {
      "byteLimit": 2048000,
      "rowLimit": 10000
     },
     "inputWidgets": {},
     "nuid": "73a2123c-1741-41af-8465-c4a692f54f85",
     "showTitle": false,
     "tableResultSettingsMap": {},
     "title": ""
    }
   },
   "outputs": [],
   "source": [
    "for i in table_name:\n",
    "    path = 'abfss://bronze@databriconnect.dfs.core.windows.net/SalesLT/' + i + '/' + i + '.parquet'\n",
    "    df = spark.read.format(\"parquet\").load(path)\n",
    "    columns = df.columns\n",
    "\n",
    "    for col in columns:\n",
    "        if \"Date\" in col or 'date' in col:\n",
    "            df = df.withColumn(col,date_format(from_utc_timestamp(df[col].cast(TimestampType()),\"UTC\"),\"yyyy-MM-dd\"))\n",
    "    \n",
    "    output_path = 'abfss://silver@databriconnect.dfs.core.windows.net/SalesLT/' + i + '/'\n",
    "    df.write.format(\"delta\").mode(\"overwrite\").save(output_path)\n",
    "\n"
   ]
  }
 ],
 "metadata": {
  "application/vnd.databricks.v1+notebook": {
   "computePreferences": null,
   "dashboards": [],
   "environmentMetadata": {
    "base_environment": "",
    "environment_version": "2"
   },
   "inputWidgetPreferences": null,
   "language": "python",
   "notebookMetadata": {
    "pythonIndentUnit": 4
   },
   "notebookName": "Bronze to Silver Transformation",
   "widgets": {}
  },
  "language_info": {
   "name": "python"
  }
 },
 "nbformat": 4,
 "nbformat_minor": 0
}
