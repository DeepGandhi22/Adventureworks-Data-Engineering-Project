{
 "cells": [
  {
   "cell_type": "code",
   "execution_count": 0,
   "metadata": {
    "application/vnd.databricks.v1+cell": {
     "cellMetadata": {
      "byteLimit": 2048000,
      "rowLimit": 10000
     },
     "inputWidgets": {},
     "nuid": "fbd376eb-788f-464f-90f3-122bc342cc4a",
     "showTitle": false,
     "tableResultSettingsMap": {},
     "title": ""
    }
   },
   "outputs": [],
   "source": [
    "from pyspark.sql.functions import *\n",
    "from pyspark.sql.types import IntegerType, DoubleType, DataType, BooleanType, TimestampType\n",
    "from pyspark.sql import SparkSession"
   ]
  },
  {
   "cell_type": "code",
   "execution_count": 0,
   "metadata": {
    "application/vnd.databricks.v1+cell": {
     "cellMetadata": {
      "byteLimit": 2048000,
      "rowLimit": 10000
     },
     "inputWidgets": {},
     "nuid": "718c51b5-6e3a-4414-9feb-5091996964f1",
     "showTitle": false,
     "tableResultSettingsMap": {},
     "title": ""
    }
   },
   "outputs": [],
   "source": [
    "spark.conf.set(\"fs.azure.account.auth.type.databriconnect.dfs.core.windows.net\", \"OAuth\")\n",
    "spark.conf.set(\"fs.azure.account.oauth.provider.type.databriconnect.dfs.core.windows.net\", \"org.apache.hadoop.fs.azurebfs.oauth2.ClientCredsTokenProvider\")\n",
    "spark.conf.set(\"fs.azure.account.oauth2.client.id.databriconnect.dfs.core.windows.net\", client_id)\n",
    "spark.conf.set(\"fs.azure.account.oauth2.client.secret.databriconnect.dfs.core.windows.net\", client_secret)\n",
    "spark.conf.set(\"fs.azure.account.oauth2.client.endpoint.databriconnect.dfs.core.windows.net\", f\"https://login.microsoftonline.com/{tenant_id}/oauth2/token\")"
   ]
  },
  {
   "cell_type": "code",
   "execution_count": 0,
   "metadata": {
    "application/vnd.databricks.v1+cell": {
     "cellMetadata": {
      "byteLimit": 2048000,
      "rowLimit": 10000
     },
     "inputWidgets": {},
     "nuid": "6ac0a80a-e0f4-4fe6-97f4-be6f1ec03f04",
     "showTitle": false,
     "tableResultSettingsMap": {},
     "title": ""
    }
   },
   "outputs": [
    {
     "data": {
      "text/html": [
       "<style scoped>\n",
       "  .table-result-container {\n",
       "    max-height: 300px;\n",
       "    overflow: auto;\n",
       "  }\n",
       "  table, th, td {\n",
       "    border: 1px solid black;\n",
       "    border-collapse: collapse;\n",
       "  }\n",
       "  th, td {\n",
       "    padding: 5px;\n",
       "  }\n",
       "  th {\n",
       "    text-align: left;\n",
       "  }\n",
       "</style><div class='table-result-container'><table class='table-result'><thead style='background-color: white'><tr><th>path</th><th>name</th><th>size</th><th>modificationTime</th></tr></thead><tbody><tr><td>abfss://silver@databriconnect.dfs.core.windows.net/SalesLT/Address/</td><td>Address/</td><td>0</td><td>1746464908000</td></tr><tr><td>abfss://silver@databriconnect.dfs.core.windows.net/SalesLT/Customer/</td><td>Customer/</td><td>0</td><td>1746464918000</td></tr><tr><td>abfss://silver@databriconnect.dfs.core.windows.net/SalesLT/CustomerAddress/</td><td>CustomerAddress/</td><td>0</td><td>1746464921000</td></tr><tr><td>abfss://silver@databriconnect.dfs.core.windows.net/SalesLT/Product/</td><td>Product/</td><td>0</td><td>1746464924000</td></tr><tr><td>abfss://silver@databriconnect.dfs.core.windows.net/SalesLT/ProductCategory/</td><td>ProductCategory/</td><td>0</td><td>1746464926000</td></tr><tr><td>abfss://silver@databriconnect.dfs.core.windows.net/SalesLT/ProductDescription/</td><td>ProductDescription/</td><td>0</td><td>1746464928000</td></tr><tr><td>abfss://silver@databriconnect.dfs.core.windows.net/SalesLT/ProductModel/</td><td>ProductModel/</td><td>0</td><td>1746464930000</td></tr><tr><td>abfss://silver@databriconnect.dfs.core.windows.net/SalesLT/ProductModelProductDescription/</td><td>ProductModelProductDescription/</td><td>0</td><td>1746464932000</td></tr><tr><td>abfss://silver@databriconnect.dfs.core.windows.net/SalesLT/SalesOrderDetail/</td><td>SalesOrderDetail/</td><td>0</td><td>1746464934000</td></tr><tr><td>abfss://silver@databriconnect.dfs.core.windows.net/SalesLT/SalesOrderHeader/</td><td>SalesOrderHeader/</td><td>0</td><td>1746464936000</td></tr></tbody></table></div>"
      ]
     },
     "metadata": {
      "application/vnd.databricks.v1+output": {
       "addedWidgets": {},
       "aggData": [],
       "aggError": "",
       "aggOverflow": false,
       "aggSchema": [],
       "aggSeriesLimitReached": false,
       "aggType": "",
       "arguments": {},
       "columnCustomDisplayInfos": {},
       "data": [
        [
         "abfss://silver@databriconnect.dfs.core.windows.net/SalesLT/Address/",
         "Address/",
         0,
         1746464908000
        ],
        [
         "abfss://silver@databriconnect.dfs.core.windows.net/SalesLT/Customer/",
         "Customer/",
         0,
         1746464918000
        ],
        [
         "abfss://silver@databriconnect.dfs.core.windows.net/SalesLT/CustomerAddress/",
         "CustomerAddress/",
         0,
         1746464921000
        ],
        [
         "abfss://silver@databriconnect.dfs.core.windows.net/SalesLT/Product/",
         "Product/",
         0,
         1746464924000
        ],
        [
         "abfss://silver@databriconnect.dfs.core.windows.net/SalesLT/ProductCategory/",
         "ProductCategory/",
         0,
         1746464926000
        ],
        [
         "abfss://silver@databriconnect.dfs.core.windows.net/SalesLT/ProductDescription/",
         "ProductDescription/",
         0,
         1746464928000
        ],
        [
         "abfss://silver@databriconnect.dfs.core.windows.net/SalesLT/ProductModel/",
         "ProductModel/",
         0,
         1746464930000
        ],
        [
         "abfss://silver@databriconnect.dfs.core.windows.net/SalesLT/ProductModelProductDescription/",
         "ProductModelProductDescription/",
         0,
         1746464932000
        ],
        [
         "abfss://silver@databriconnect.dfs.core.windows.net/SalesLT/SalesOrderDetail/",
         "SalesOrderDetail/",
         0,
         1746464934000
        ],
        [
         "abfss://silver@databriconnect.dfs.core.windows.net/SalesLT/SalesOrderHeader/",
         "SalesOrderHeader/",
         0,
         1746464936000
        ]
       ],
       "datasetInfos": [],
       "dbfsResultPath": null,
       "isJsonSchema": true,
       "metadata": {},
       "overflow": false,
       "plotOptions": {
        "customPlotOptions": {},
        "displayType": "table",
        "pivotAggregation": null,
        "pivotColumns": null,
        "xColumns": null,
        "yColumns": null
       },
       "removedWidgets": [],
       "schema": [
        {
         "metadata": "{}",
         "name": "path",
         "type": "\"string\""
        },
        {
         "metadata": "{}",
         "name": "name",
         "type": "\"string\""
        },
        {
         "metadata": "{}",
         "name": "size",
         "type": "\"long\""
        },
        {
         "metadata": "{}",
         "name": "modificationTime",
         "type": "\"long\""
        }
       ],
       "type": "table"
      }
     },
     "output_type": "display_data"
    }
   ],
   "source": [
    "display(dbutils.fs.ls(\"abfss://silver@databriconnect.dfs.core.windows.net/SalesLT\"))"
   ]
  },
  {
   "cell_type": "code",
   "execution_count": 0,
   "metadata": {
    "application/vnd.databricks.v1+cell": {
     "cellMetadata": {
      "byteLimit": 2048000,
      "rowLimit": 10000
     },
     "inputWidgets": {},
     "nuid": "fdbf8c48-4d16-4cdb-942c-035bf6c02a9b",
     "showTitle": false,
     "tableResultSettingsMap": {},
     "title": ""
    }
   },
   "outputs": [
    {
     "name": "stdout",
     "output_type": "stream",
     "text": [
      "['Address', 'Customer', 'CustomerAddress', 'Product', 'ProductCategory', 'ProductDescription', 'ProductModel', 'ProductModelProductDescription', 'SalesOrderDetail', 'SalesOrderHeader']\n"
     ]
    }
   ],
   "source": [
    "table_name = []\n",
    "\n",
    "for i in dbutils.fs.ls(\"abfss://silver@databriconnect.dfs.core.windows.net/SalesLT\"):\n",
    "    table_name.append(i.name[:-1])\n",
    "\n",
    "print(table_name)"
   ]
  },
  {
   "cell_type": "code",
   "execution_count": 0,
   "metadata": {
    "application/vnd.databricks.v1+cell": {
     "cellMetadata": {
      "byteLimit": 2048000,
      "rowLimit": 10000
     },
     "inputWidgets": {},
     "nuid": "db73bf94-45d5-4e64-9158-d9f020c5349e",
     "showTitle": false,
     "tableResultSettingsMap": {},
     "title": ""
    }
   },
   "outputs": [],
   "source": [
    "for name in table_name:\n",
    "    path = \"abfss://silver@databriconnect.dfs.core.windows.net/SalesLT/\" + name \n",
    "    df = spark.read.format('delta').load(path)\n",
    "\n",
    "    column_name = df.columns\n",
    "    for old_col_name in column_name:\n",
    "        new_col_name = \"\".join(['_' + char if char.isupper() and not old_col_name[i - 1].isupper() else char for i, char in enumerate(old_col_name)]).lstrip(\"_\")\n",
    "\n",
    "        df = df.withColumnRenamed(old_col_name,new_col_name)\n",
    "\n",
    "    output_path = 'abfss://gold@databriconnect.dfs.core.windows.net/SalesLT/' + name + '/'\n",
    "    df.write.format(\"delta\").mode(\"overwrite\").save(output_path)"
   ]
  }
 ],
 "metadata": {
  "application/vnd.databricks.v1+notebook": {
   "computePreferences": null,
   "dashboards": [],
   "environmentMetadata": {
    "base_environment": "",
    "environment_version": "2"
   },
   "inputWidgetPreferences": null,
   "language": "python",
   "notebookMetadata": {
    "pythonIndentUnit": 4
   },
   "notebookName": "Silver to Gold Transformation",
   "widgets": {}
  },
  "language_info": {
   "name": "python"
  }
 },
 "nbformat": 4,
 "nbformat_minor": 0
}
